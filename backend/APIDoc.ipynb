{
 "cells": [
  {
   "cell_type": "markdown",
   "metadata": {},
   "source": [
    "# API Documentation"
   ]
  },
  {
   "cell_type": "markdown",
   "metadata": {},
   "source": [
    "- `/api/auth/signup` - Signs a user up\n",
    "    - insert into database\n",
    "- `/api/auth/signin` - signs a user in \n",
    "    - authenticate the username from the database\n",
    "    - if correct then login, if not display error message\n",
    "    - display dashboard page\n",
    "    - if clicked on profile then\n",
    "        - `/api/dashboard/profile/get`\n",
    "            - getting the profile id\n",
    "        - `/api/dashboard/profile/set`\n",
    "            - sending the login id\n",
    "        -  display the picture\n",
    "            -  `/api/profile/headshot ? w=width && h=height`\n",
    "            -  `/api/profile/headshot/set`\n",
    "                - puts the picture in for the user\n",
    "    - if clicked on connect go to connect page\n",
    "    - if clicked on message go to message page\n",
    "    - if clicked on notification go to notification page\n",
    "    "
   ]
  }
 ],
 "metadata": {
  "kernelspec": {
   "display_name": "Python 3",
   "language": "python",
   "name": "python3"
  },
  "language_info": {
   "codemirror_mode": {
    "name": "ipython",
    "version": 3
   },
   "file_extension": ".py",
   "mimetype": "text/x-python",
   "name": "python",
   "nbconvert_exporter": "python",
   "pygments_lexer": "ipython3",
   "version": "3.5.3"
  }
 },
 "nbformat": 4,
 "nbformat_minor": 2
}
